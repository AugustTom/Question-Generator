{
 "cells": [
  {
   "cell_type": "code",
   "execution_count": 5,
   "metadata": {
    "collapsed": true,
    "pycharm": {
     "is_executing": false
    }
   },
   "outputs": [
    {
     "name": "stdout",
     "text": [
      "Common uses of oxygen include production of steel, plastics and textiles, brazing, welding and cutting of steels and other metals, rocket propellant, oxygen therapy, and life support systems in aircraft, submarines, spaceflight and diving.\n",
      "Dioxygen provides the energy released in combustion and aerobic cellular respiration, and many major classes of organic molecules in living organisms contain oxygen atoms, such as proteins, nucleic acids, carbohydrates, and fats, as do the major constituent inorganic compounds of animal shells, teeth, and bone.\n",
      "Another form (allotrope) of oxygen, ozone (O3), strongly absorbs ultraviolet UVB radiation and the high-altitude ozone layer helps protect the biosphere from ultraviolet radiation.\n",
      "Oxygen was isolated by Michael Sendivogius before 1604, but it is commonly believed that the element was discovered independently by Carl Wilhelm Scheele, in Uppsala, in 1773 or earlier, and Joseph Priestley in Wiltshire, in 1774.\n",
      "Oxygen is continuously replenished in Earth's atmosphere by photosynthesis, which uses the energy of sunlight to produce oxygen from water and carbon dioxide.\n",
      "Oxygen is the chemical element with the symbol O and atomic number 8.\n",
      "At standard temperature and pressure, two atoms of the element bind to form dioxygen, a colorless and odorless diatomic gas with the formula O2.\n",
      "The name oxygen was coined in 1777 by Antoine Lavoisier, who first recognized oxygen as a chemical element and correctly characterized the role it plays in combustion.\n",
      "It is a member of the chalcogen group in the periodic table, a highly reactive nonmetal, and an oxidizing agent that readily forms oxides with mostelements as well as with other compounds.\n",
      "After hydrogen and helium, oxygen is the third-most abundant element in the universe by mass.\n"
     ],
     "output_type": "stream"
    }
   ],
   "source": [
    "# Imports \n",
    "import spacy\n",
    "from Code.text_fetcher import TextFetcher\n",
    "from Code.text_rank import TextRank\n",
    "from Code.cloze_question import ClozeQuestion"
   ]
  },
  {
   "cell_type": "code",
   "execution_count": 6,
   "outputs": [],
   "source": [
    "nlp = spacy.load('en_core_web_md')"
   ],
   "metadata": {
    "collapsed": false,
    "pycharm": {
     "name": "#%% \n",
     "is_executing": false
    }
   }
  },
  {
   "cell_type": "code",
   "execution_count": 7,
   "outputs": [
    {
     "name": "stdout",
     "text": [
      "Oxygen is the chemical element with the symbol O and atomic number 8. It is a member of the chalcogen group in the periodic table, a highly reactive nonmetal, and an oxidizing agent that readily forms oxides with most elements as well as with other compounds. After hydrogen and helium, oxygen is the third-most abundant element in the universe by mass. At standard temperature and pressure, two atoms of the element bind to form dioxygen, a colorless and odorless diatomic gas with the formula O2. Diatomic oxygen gas constitutes 20.95% of the Earth's atmosphere. Oxygen makes up almost half of the Earth's crust in the form of oxides.Dioxygen provides the energy released in combustion and aerobic cellular respiration, and many major classes of organic molecules in living organisms contain oxygen atoms, such as proteins, nucleic acids, carbohydrates, and fats, as do the major constituent inorganic compounds of animal shells, teeth, and bone. Most of the mass of living organisms is oxygen as a component of water, the major constituent of lifeforms. Oxygen is continuously replenished in Earth's atmosphere by photosynthesis, which uses the energy of sunlight to produce oxygen from water and carbon dioxide. Oxygen is too chemically reactive to remain a free element in air without being continuously replenished by the photosynthetic action of living organisms. Another form (allotrope) of oxygen, ozone (O3), strongly absorbs ultraviolet UVB radiation and the high-altitude ozone layer helps protect the biosphere from ultraviolet radiation. However, ozone present at the surface is a byproduct of smog and thus a pollutant.\n",
      "Oxygen was isolated by Michael Sendivogius before 1604, but it is commonly believed that the element was discovered independently by Carl Wilhelm Scheele, in Uppsala, in 1773 or earlier, and Joseph Priestley in Wiltshire, in 1774. Priority is often given for Priestley because his work was published first. Priestley, however, called oxygen \"dephlogisticated air\", and did not recognize it as a chemical element. The name oxygen was coined in 1777 by Antoine Lavoisier, who first recognized oxygen as a chemical element and correctly characterized the role it plays in combustion.\n",
      "Common uses of oxygen include production of steel, plastics and textiles, brazing, welding and cutting of steels and other metals, rocket propellant, oxygen therapy, and life support systems in aircraft, submarines, spaceflight and diving.\n"
     ],
     "output_type": "stream"
    }
   ],
   "source": [
    "text = TextFetcher(title='Oxygen').getText()\n",
    "print(text)\n"
   ],
   "metadata": {
    "collapsed": false,
    "pycharm": {
     "name": "#%%\n",
     "is_executing": false
    }
   }
  },
  {
   "cell_type": "code",
   "execution_count": 8,
   "outputs": [
    {
     "name": "stdout",
     "text": [
      "Common uses of oxygen include production of steel, plastics and textiles, brazing, welding and cutting of steels and other metals, rocket propellant, oxygen therapy, and life support systems in aircraft, submarines, spaceflight and diving.\n",
      "Dioxygen provides the energy released in combustion and aerobic cellular respiration, and many major classes of organic molecules in living organisms contain oxygen atoms, such as proteins, nucleic acids, carbohydrates, and fats, as do the major constituent inorganic compounds of animal shells, teeth, and bone.\n",
      "Another form (allotrope) of oxygen, ozone (O3), strongly absorbs ultraviolet UVB radiation and the high-altitude ozone layer helps protect the biosphere from ultraviolet radiation.\n",
      "Oxygen was isolated by Michael Sendivogius before 1604, but it is commonly believed that the element was discovered independently by Carl Wilhelm Scheele, in Uppsala, in 1773 or earlier, and Joseph Priestley in Wiltshire, in 1774.\n",
      "Oxygen is continuously replenished in Earth's atmosphere by photosynthesis, which uses the energy of sunlight to produce oxygen from water and carbon dioxide.\n",
      "Oxygen is the chemical element with the symbol O and atomic number 8.\n",
      "At standard temperature and pressure, two atoms of the element bind to form dioxygen, a colorless and odorless diatomic gas with the formula O2.\n",
      "The name oxygen was coined in 1777 by Antoine Lavoisier, who first recognized oxygen as a chemical element and correctly characterized the role it plays in combustion.\n",
      "It is a member of the chalcogen group in the periodic table, a highly reactive nonmetal, and an oxidizing agent that readily forms oxides with most elements as well as with other compounds.\n",
      "After hydrogen and helium, oxygen is the third-most abundant element in the universe by mass.\n"
     ],
     "output_type": "stream"
    }
   ],
   "source": [
    "text_rank = TextRank(text=text,nlp = nlp)\n",
    "top_sentences = text_rank.get_top_sentences(10)\n",
    "\n",
    "for sentence in top_sentences:\n",
    "    print(sentence)\n"
   ],
   "metadata": {
    "collapsed": false,
    "pycharm": {
     "name": "#%%\n",
     "is_executing": false
    }
   }
  },
  {
   "cell_type": "code",
   "execution_count": 9,
   "outputs": [
    {
     "name": "stdout",
     "text": [
      "[chemical, Oxygen, dioxygen, respiration, photosynthesis, oxides, compounds, molecules, energy, surface]\n"
     ],
     "output_type": "stream"
    }
   ],
   "source": [
    "top_keywords = text_rank.get_top_keywords(10)\n",
    "\n",
    "print(top_keywords)\n",
    "\n"
   ],
   "metadata": {
    "collapsed": false,
    "pycharm": {
     "name": "#%%\n",
     "is_executing": false
    }
   }
  },
  {
   "cell_type": "code",
   "execution_count": 10,
   "outputs": [],
   "source": [
    "cloze_questions = []\n",
    "\n",
    "for sentence in top_sentences:\n",
    "    \n",
    "    original_sentence = sentence.orth_\n",
    "    question = \" \"\n",
    "    answer = \"\"\n",
    "    has_keyword = False\n",
    "    has_blank = False\n",
    "    \n",
    "    for token in sentence:\n",
    "        \n",
    "        if token in top_keywords and not has_blank:\n",
    "            \n",
    "            has_blank = True\n",
    "            has_keyword = True\n",
    "            question += \"______\"\n",
    "            answer = token.text\n",
    "        else:\n",
    "            question += token.text_with_ws\n",
    "            \n",
    "    if has_keyword:\n",
    "        \n",
    "        cloze_questions.append(ClozeQuestion(original_sentence=original_sentence, question=question, answer=answer, \n",
    "                                         distractors='None'))\n"
   ],
   "metadata": {
    "collapsed": false,
    "pycharm": {
     "name": "#%%\n",
     "is_executing": false
    }
   }
  },
  {
   "cell_type": "code",
   "execution_count": 13,
   "outputs": [
    {
     "name": "stdout",
     "text": [
      "0  Dioxygen provides the ______released in combustion and aerobic cellular respiration, and many major classes of organic molecules in living organisms contain oxygen atoms, such as proteins, nucleic acids, carbohydrates, and fats, as do the major constituent inorganic compounds of animal shells, teeth, and bone. \n",
      "\n",
      "- energy \n",
      "\n",
      "\n",
      "1  Oxygen is continuously replenished in Earth's atmosphere by ______, which uses the energy of sunlight to produce oxygen from water and carbon dioxide. \n",
      "\n",
      "- photosynthesis \n",
      "\n",
      "\n",
      "2  ______is the chemical element with the symbol O and atomic number 8. \n",
      "\n",
      "- Oxygen \n",
      "\n",
      "\n",
      "3  At standard temperature and pressure, two atoms of the element bind to form ______, a colorless and odorless diatomic gas with the formula O2. \n",
      "\n",
      "- dioxygen \n",
      "\n",
      "\n",
      "4  It is a member of the chalcogen group in the periodic table, a highly reactive nonmetal, and an oxidizing agent that readily forms ______with most elements as well as with other compounds. \n",
      "\n",
      "- oxides \n",
      "\n",
      "\n"
     ],
     "output_type": "stream"
    }
   ],
   "source": [
    "# Printing questions \n",
    "\n",
    "for i, question in enumerate(cloze_questions):\n",
    "    print(\"{} {}\\n\".format(i,cloze_questions[i].question))\n",
    "    print(\"- {} \\n\\n\".format(cloze_questions[i].answer))\n",
    "    "
   ],
   "metadata": {
    "collapsed": false,
    "pycharm": {
     "name": "#%%\n",
     "is_executing": false
    }
   }
  }
 ],
 "metadata": {
  "kernelspec": {
   "display_name": "Python 3",
   "language": "python",
   "name": "python3"
  },
  "language_info": {
   "codemirror_mode": {
    "name": "ipython",
    "version": 2
   },
   "file_extension": ".py",
   "mimetype": "text/x-python",
   "name": "python",
   "nbconvert_exporter": "python",
   "pygments_lexer": "ipython2",
   "version": "2.7.6"
  },
  "pycharm": {
   "stem_cell": {
    "cell_type": "raw",
    "source": [],
    "metadata": {
     "collapsed": false
    }
   }
  }
 },
 "nbformat": 4,
 "nbformat_minor": 0
}