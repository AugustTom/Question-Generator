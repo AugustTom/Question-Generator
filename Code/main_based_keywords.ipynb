{
 "cells": [
  {
   "cell_type": "code",
   "execution_count": 1,
   "metadata": {
    "collapsed": true,
    "pycharm": {
     "is_executing": false
    }
   },
   "outputs": [
    {
     "name": "stdout",
     "text": [
      "Oxygen is the chemical element with the symbol O and atomic number 8. It is a member of the chalcogen group in the periodic table, a highly reactive nonmetal, and an oxidizing agent that readily forms oxides with most elements as well as with other compounds. After hydrogen and helium, oxygen is the third-most abundant element in the universe by mass. At standard temperature and pressure, two atoms of the element bind to form dioxygen, a colorless and odorless diatomic gas with the formula O2. Diatomic oxygen gas constitutes 20.95% of the Earth's atmosphere. Oxygen makes up almost half of the Earth's crust in the form of oxides.Dioxygen provides the energy released in combustion and aerobic cellular respiration, and many major classes of organic molecules in living organisms contain oxygen atoms, such as proteins, nucleic acids, carbohydrates, and fats, as do the major constituent inorganic compounds of animal shells, teeth, and bone. Most of the mass of living organisms is oxygen as a component of water, the major constituent of lifeforms. Oxygen is continuously replenished in Earth's atmosphere by photosynthesis, which uses the energy of sunlight to produce oxygen from water and carbon dioxide. Oxygen is too chemically reactive to remain a free element in air without being continuously replenished by the photosynthetic action of living organisms. Another form (allotrope) of oxygen, ozone (O3), strongly absorbs ultraviolet UVB radiation and the high-altitude ozone layer helps protect the biosphere from ultraviolet radiation. However, ozone present at the surface is a byproduct of smog and thus a pollutant.\n",
      "Oxygen was isolated by Michael Sendivogius before 1604, but it is commonly believed that the element was discovered independently by Carl Wilhelm Scheele, in Uppsala, in 1773 or earlier, and Joseph Priestley in Wiltshire, in 1774. Priority is often given for Priestley because his work was published first. Priestley, however, called oxygen \"dephlogisticated air\", and did not recognize it as a chemical element. The name oxygen was coined in 1777 by Antoine Lavoisier, who first recognized oxygen as a chemical element and correctly characterized the role it plays in combustion.\n",
      "Common uses of oxygen include production of steel, plastics and textiles, brazing, welding and cutting of steels and other metals, rocket propellant, oxygen therapy, and life support systems in aircraft, submarines, spaceflight and diving.\n",
      "[[0.         0.05460398 0.11244527 0.07262515 0.04471451 0.04214929\n",
      "  0.06113734 0.06456805 0.09797327 0.08429858 0.03460237 0.\n",
      "  0.07079598 0.         0.08429858 0.11595175 0.05983589]\n",
      " [0.04916345 0.         0.08245144 0.06524085 0.02928747 0.08728426\n",
      "  0.16071236 0.04391666 0.06070249 0.05299466 0.04202878 0.0086999\n",
      "  0.04728277 0.0086999  0.09391227 0.10669745 0.06092529]\n",
      " [0.06650591 0.05416257 0.         0.07573076 0.05027889 0.04830234\n",
      "  0.07747205 0.07975123 0.10206058 0.07041092 0.0544642  0.01142997\n",
      "  0.06187789 0.01142997 0.07041092 0.10016011 0.0655517 ]\n",
      " [0.04957493 0.04946256 0.0874034  0.         0.06653472 0.04212032\n",
      "  0.1123521  0.05464643 0.07335878 0.06445307 0.07708561 0.01978757\n",
      "  0.05869337 0.01978757 0.06445307 0.09574259 0.0645439 ]\n",
      " [0.03211599 0.02336343 0.06105756 0.07000775 0.         0.08433533\n",
      "  0.08291593 0.05384194 0.14330287 0.05604797 0.05125909 0.0277606\n",
      "  0.05176931 0.0277606  0.05604797 0.0966161  0.08179756]\n",
      " [0.0271599  0.06246773 0.05262438 0.03976074 0.07566144 0.\n",
      "  0.1094446  0.05342864 0.10909292 0.05521861 0.07149762 0.03113178\n",
      "  0.05173386 0.03113178 0.07194779 0.09121147 0.06648673]\n",
      " [0.02661568 0.07770737 0.05702391 0.07165346 0.05025696 0.07394138\n",
      "  0.         0.0826909  0.09563736 0.07396242 0.06485899 0.02523936\n",
      "  0.04686314 0.02523936 0.05806087 0.09067134 0.0795775 ]\n",
      " [0.03553109 0.02684121 0.07420092 0.04405322 0.04125141 0.04562755\n",
      "  0.10452437 0.         0.09942793 0.10711295 0.05337041 0.03722074\n",
      "  0.064724   0.03722074 0.06903035 0.08455414 0.07530897]\n",
      " [0.03981195 0.02739644 0.07012046 0.04366996 0.08107517 0.06879621\n",
      "  0.08926934 0.07342151 0.         0.06728108 0.06208781 0.03141173\n",
      "  0.06265566 0.03141173 0.06728108 0.09844075 0.08586913]\n",
      " [0.04124755 0.02879996 0.05825039 0.04620047 0.03818255 0.04193006\n",
      "  0.08313003 0.0952421  0.08101492 0.         0.05787748 0.04255165\n",
      "  0.07383989 0.04255165 0.09742241 0.09334478 0.0784141 ]\n",
      " [0.01776148 0.02396084 0.04726781 0.05796577 0.03663291 0.05695437\n",
      "  0.07647376 0.04978322 0.0784285  0.06071628 0.         0.16111195\n",
      "  0.06368032 0.0495986  0.06567614 0.079727   0.07426104]\n",
      " [0.         0.00754813 0.01509626 0.02264439 0.03019252 0.03774064\n",
      "  0.04528877 0.0528369  0.06038503 0.06793316 0.24518712 0.\n",
      "  0.08302942 0.08302942 0.08302942 0.08302942 0.08302942]\n",
      " [0.03605444 0.02674453 0.05328029 0.04378891 0.03670707 0.04088718\n",
      "  0.05482145 0.05989969 0.0785244  0.07685344 0.06318035 0.05413011\n",
      "  0.         0.07856147 0.10789879 0.10476017 0.08390772]\n",
      " [0.         0.00795159 0.01590318 0.02385476 0.03180635 0.03975794\n",
      "  0.04770953 0.05566111 0.0636127  0.07156429 0.07951588 0.08746747\n",
      "  0.12694549 0.         0.14150844 0.10337064 0.10337064]\n",
      " [0.03669709 0.04540625 0.05182417 0.04110361 0.03397023 0.04860612\n",
      "  0.05805825 0.05460854 0.07207731 0.08667471 0.05569878 0.04627007\n",
      "  0.09223119 0.07485761 0.         0.11914197 0.0827741 ]\n",
      " [0.04206979 0.0429961  0.06144249 0.05088892 0.04880562 0.0513576\n",
      "  0.07556698 0.055749   0.0878946  0.0692158  0.05635405 0.03856398\n",
      "  0.07463442 0.04557561 0.09929937 0.         0.09958568]\n",
      " [0.0266277  0.03011282 0.04932155 0.04207769 0.05068032 0.04591652\n",
      "  0.08134504 0.06090145 0.09403794 0.07131618 0.06438127 0.04729994\n",
      "  0.07332019 0.05589993 0.08461647 0.12214498 0.        ]]\n",
      "The name oxygen was coined in 1777 by Antoine Lavoisier, who first recognized oxygen as a chemical element and correctly characterized the role it plays in combustion.\n",
      "Oxygen is continuously replenished in Earth's atmosphere by photosynthesis, which uses the energy of sunlight to produce oxygen from water and carbon dioxide.\n",
      "Dioxygen provides the energy released in combustion and aerobic cellular respiration, and many major classes of organic molecules in living organisms contain oxygen atoms, such as proteins, nucleic acids, carbohydrates, and fats, as do the major constituent inorganic compounds of animal shells, teeth, and bone.\n"
     ],
     "output_type": "stream"
    }
   ],
   "source": [
    "# Imports \n",
    "import spacy\n",
    "from Code.text_fetcher import TextFetcher\n",
    "from Code.text_rank import TextRank\n",
    "from Code.cloze_question import ClozeQuestion"
   ]
  },
  {
   "cell_type": "code",
   "execution_count": 2,
   "outputs": [],
   "source": [
    "nlp = spacy.load('en_core_web_md')"
   ],
   "metadata": {
    "collapsed": false,
    "pycharm": {
     "name": "#%% \n",
     "is_executing": false
    }
   }
  },
  {
   "cell_type": "code",
   "execution_count": 3,
   "outputs": [
    {
     "name": "stdout",
     "text": [
      "Oxygen is the chemical element with the symbol O and atomic number 8. It is a member of the chalcogen group in the periodic table, a highly reactive nonmetal, and an oxidizing agent that readily forms oxides with most elements as well as with other compounds. After hydrogen and helium, oxygen is the third-most abundant element in the universe by mass. At standard temperature and pressure, two atoms of the element bind to form dioxygen, a colorless and odorless diatomic gas with the formula O2. Diatomic oxygen gas constitutes 20.95% of the Earth's atmosphere. Oxygen makes up almost half of the Earth's crust in the form of oxides.Dioxygen provides the energy released in combustion and aerobic cellular respiration, and many major classes of organic molecules in living organisms contain oxygen atoms, such as proteins, nucleic acids, carbohydrates, and fats, as do the major constituent inorganic compounds of animal shells, teeth, and bone. Most of the mass of living organisms is oxygen as a component of water, the major constituent of lifeforms. Oxygen is continuously replenished in Earth's atmosphere by photosynthesis, which uses the energy of sunlight to produce oxygen from water and carbon dioxide. Oxygen is too chemically reactive to remain a free element in air without being continuously replenished by the photosynthetic action of living organisms. Another form (allotrope) of oxygen, ozone (O3), strongly absorbs ultraviolet UVB radiation and the high-altitude ozone layer helps protect the biosphere from ultraviolet radiation. However, ozone present at the surface is a byproduct of smog and thus a pollutant.\n",
      "Oxygen was isolated by Michael Sendivogius before 1604, but it is commonly believed that the element was discovered independently by Carl Wilhelm Scheele, in Uppsala, in 1773 or earlier, and Joseph Priestley in Wiltshire, in 1774. Priority is often given for Priestley because his work was published first. Priestley, however, called oxygen \"dephlogisticated air\", and did not recognize it as a chemical element. The name oxygen was coined in 1777 by Antoine Lavoisier, who first recognized oxygen as a chemical element and correctly characterized the role it plays in combustion.\n",
      "Common uses of oxygen include production of steel, plastics and textiles, brazing, welding and cutting of steels and other metals, rocket propellant, oxygen therapy, and life support systems in aircraft, submarines, spaceflight and diving.\n"
     ],
     "output_type": "stream"
    }
   ],
   "source": [
    "text = TextFetcher(title='Oxygen').getText()\n",
    "print(text)\n"
   ],
   "metadata": {
    "collapsed": false,
    "pycharm": {
     "name": "#%%\n",
     "is_executing": false
    }
   }
  },
  {
   "cell_type": "code",
   "execution_count": 4,
   "outputs": [
    {
     "name": "stdout",
     "text": [
      "[[0.         0.05460398 0.11244527 0.07262515 0.04471451 0.04214929\n",
      "  0.06113734 0.06456805 0.09797327 0.08429858 0.03460237 0.\n",
      "  0.07079598 0.         0.08429858 0.11595175 0.05983589]\n",
      " [0.04916345 0.         0.08245144 0.06524085 0.02928747 0.08728426\n",
      "  0.16071236 0.04391666 0.06070249 0.05299466 0.04202878 0.0086999\n",
      "  0.04728277 0.0086999  0.09391227 0.10669745 0.06092529]\n",
      " [0.06650591 0.05416257 0.         0.07573076 0.05027889 0.04830234\n",
      "  0.07747205 0.07975123 0.10206058 0.07041092 0.0544642  0.01142997\n",
      "  0.06187789 0.01142997 0.07041092 0.10016011 0.0655517 ]\n",
      " [0.04957493 0.04946256 0.0874034  0.         0.06653472 0.04212032\n",
      "  0.1123521  0.05464643 0.07335878 0.06445307 0.07708561 0.01978757\n",
      "  0.05869337 0.01978757 0.06445307 0.09574259 0.0645439 ]\n",
      " [0.03211599 0.02336343 0.06105756 0.07000775 0.         0.08433533\n",
      "  0.08291593 0.05384194 0.14330287 0.05604797 0.05125909 0.0277606\n",
      "  0.05176931 0.0277606  0.05604797 0.0966161  0.08179756]\n",
      " [0.0271599  0.06246773 0.05262438 0.03976074 0.07566144 0.\n",
      "  0.1094446  0.05342864 0.10909292 0.05521861 0.07149762 0.03113178\n",
      "  0.05173386 0.03113178 0.07194779 0.09121147 0.06648673]\n",
      " [0.02661568 0.07770737 0.05702391 0.07165346 0.05025696 0.07394138\n",
      "  0.         0.0826909  0.09563736 0.07396242 0.06485899 0.02523936\n",
      "  0.04686314 0.02523936 0.05806087 0.09067134 0.0795775 ]\n",
      " [0.03553109 0.02684121 0.07420092 0.04405322 0.04125141 0.04562755\n",
      "  0.10452437 0.         0.09942793 0.10711295 0.05337041 0.03722074\n",
      "  0.064724   0.03722074 0.06903035 0.08455414 0.07530897]\n",
      " [0.03981195 0.02739644 0.07012046 0.04366996 0.08107517 0.06879621\n",
      "  0.08926934 0.07342151 0.         0.06728108 0.06208781 0.03141173\n",
      "  0.06265566 0.03141173 0.06728108 0.09844075 0.08586913]\n",
      " [0.04124755 0.02879996 0.05825039 0.04620047 0.03818255 0.04193006\n",
      "  0.08313003 0.0952421  0.08101492 0.         0.05787748 0.04255165\n",
      "  0.07383989 0.04255165 0.09742241 0.09334478 0.0784141 ]\n",
      " [0.01776148 0.02396084 0.04726781 0.05796577 0.03663291 0.05695437\n",
      "  0.07647376 0.04978322 0.0784285  0.06071628 0.         0.16111195\n",
      "  0.06368032 0.0495986  0.06567614 0.079727   0.07426104]\n",
      " [0.         0.00754813 0.01509626 0.02264439 0.03019252 0.03774064\n",
      "  0.04528877 0.0528369  0.06038503 0.06793316 0.24518712 0.\n",
      "  0.08302942 0.08302942 0.08302942 0.08302942 0.08302942]\n",
      " [0.03605444 0.02674453 0.05328029 0.04378891 0.03670707 0.04088718\n",
      "  0.05482145 0.05989969 0.0785244  0.07685344 0.06318035 0.05413011\n",
      "  0.         0.07856147 0.10789879 0.10476017 0.08390772]\n",
      " [0.         0.00795159 0.01590318 0.02385476 0.03180635 0.03975794\n",
      "  0.04770953 0.05566111 0.0636127  0.07156429 0.07951588 0.08746747\n",
      "  0.12694549 0.         0.14150844 0.10337064 0.10337064]\n",
      " [0.03669709 0.04540625 0.05182417 0.04110361 0.03397023 0.04860612\n",
      "  0.05805825 0.05460854 0.07207731 0.08667471 0.05569878 0.04627007\n",
      "  0.09223119 0.07485761 0.         0.11914197 0.0827741 ]\n",
      " [0.04206979 0.0429961  0.06144249 0.05088892 0.04880562 0.0513576\n",
      "  0.07556698 0.055749   0.0878946  0.0692158  0.05635405 0.03856398\n",
      "  0.07463442 0.04557561 0.09929937 0.         0.09958568]\n",
      " [0.0266277  0.03011282 0.04932155 0.04207769 0.05068032 0.04591652\n",
      "  0.08134504 0.06090145 0.09403794 0.07131618 0.06438127 0.04729994\n",
      "  0.07332019 0.05589993 0.08461647 0.12214498 0.        ]]\n",
      "The name oxygen was coined in 1777 by Antoine Lavoisier, who first recognized oxygen as a chemical element and correctly characterized the role it plays in combustion.\n",
      "Oxygen is continuously replenished in Earth's atmosphere by photosynthesis, which uses the energy of sunlight to produce oxygen from water and carbon dioxide.\n",
      "Dioxygen provides the energy released in combustion and aerobic cellular respiration, and many major classes of organic molecules in living organisms contain oxygen atoms, such as proteins, nucleic acids, carbohydrates, and fats, as do the major constituent inorganic compounds of animal shells, teeth, and bone.\n",
      "Priestley, however, called oxygen \"dephlogisticated air\", and did not recognize it as a chemical element.\n",
      "Common uses of oxygen include production of steel, plastics and textiles, brazing, welding and cutting of steels and other metals, rocket propellant, oxygen therapy, and life support systems in aircraft, submarines, spaceflight and diving.\n",
      "Oxygen is too chemically reactive to remain a free element in air without being continuously replenished by the photosynthetic action of living organisms.\n",
      "Oxygen was isolated by Michael Sendivogius before 1604, but it is commonly believed that the element was discovered independently by Carl Wilhelm Scheele, in Uppsala, in 1773 or earlier, and Joseph Priestley in Wiltshire, in 1774.\n",
      "Another form (allotrope) of oxygen, ozone (O3), strongly absorbs ultraviolet UVB radiation and the high-altitude ozone layer helps protect the biosphere from ultraviolet radiation.\n",
      "Most of the mass of living organisms is oxygen as a component of water, the major constituent of lifeforms.\n",
      "After hydrogen and helium, oxygen is the third-most abundant element in the universe by mass.\n"
     ],
     "output_type": "stream"
    }
   ],
   "source": [
    "text_rank = TextRank(text=text,nlp = nlp)\n",
    "top_sentences = text_rank.get_top_sentences(10)\n",
    "\n",
    "for sentence in top_sentences:\n",
    "    print(sentence)\n"
   ],
   "metadata": {
    "collapsed": false,
    "pycharm": {
     "name": "#%%\n",
     "is_executing": false
    }
   }
  },
  {
   "cell_type": "code",
   "execution_count": 5,
   "outputs": [
    {
     "name": "stdout",
     "text": [
      "[[0.         0.         0.         ... 0.         0.         0.        ]\n",
      " [0.         0.         0.         ... 0.         0.         0.        ]\n",
      " [0.00970874 0.00970874 0.00970874 ... 0.00970874 0.00970874 0.00970874]\n",
      " ...\n",
      " [0.00970874 0.00970874 0.00970874 ... 0.00970874 0.00970874 0.00970874]\n",
      " [0.00970874 0.00970874 0.00970874 ... 0.00970874 0.00970874 0.00970874]\n",
      " [0.00970874 0.00970874 0.00970874 ... 0.00970874 0.00970874 0.00970874]]\n",
      "[Michael, molecules, acids, oxidizing, hydrogen, oxides, compounds, combustion, propellant, living]\n"
     ],
     "output_type": "stream"
    }
   ],
   "source": [
    "top_keywords = text_rank.get_top_keywords(10)\n",
    "\n",
    "print(top_keywords)\n",
    "\n"
   ],
   "metadata": {
    "collapsed": false,
    "pycharm": {
     "name": "#%%\n",
     "is_executing": false
    }
   }
  },
  {
   "cell_type": "code",
   "execution_count": 6,
   "outputs": [],
   "source": [
    "cloze_questions = []\n",
    "\n",
    "for sentence in top_sentences:\n",
    "    original_sentence = sentence.orth_\n",
    "    question = \" \"\n",
    "    answer = \"\"\n",
    "    has_keyword = False\n",
    "    for token in sentence:\n",
    "        \n",
    "        if token in top_keywords:\n",
    "            has_keyword = True\n",
    "            question += (\"______\")\n",
    "            answer = token.text\n",
    "        else:\n",
    "            question += token.text_with_ws\n",
    "    if has_keyword:\n",
    "        cloze_questions.append(ClozeQuestion(original_sentence=original_sentence, question=question, answer=answer, \n",
    "                                         distractors='None'))\n"
   ],
   "metadata": {
    "collapsed": false,
    "pycharm": {
     "name": "#%%\n",
     "is_executing": false
    }
   }
  },
  {
   "cell_type": "code",
   "execution_count": 7,
   "outputs": [
    {
     "name": "stdout",
     "text": [
      "0  Dioxygen provides the energy released in ______and aerobic cellular respiration, and many major classes of organic ______in living organisms contain oxygen atoms, such as proteins, nucleic ______, carbohydrates, and fats, as do the major constituent inorganic compounds of animal shells, teeth, and bone. \n",
      "\n",
      "-acids\n",
      "1  Common uses of oxygen include production of steel, plastics and textiles, brazing, welding and cutting of steels and other metals, rocket ______, oxygen therapy, and life support systems in aircraft, submarines, spaceflight and diving.\n",
      "\n",
      "-propellant\n",
      "2  Oxygen was isolated by ______Sendivogius before 1604, but it is commonly believed that the element was discovered independently by Carl Wilhelm Scheele, in Uppsala, in 1773 or earlier, and Joseph Priestley in Wiltshire, in 1774. \n",
      "\n",
      "-Michael\n",
      "3  Most of the mass of ______organisms is oxygen as a component of water, the major constituent of lifeforms. \n",
      "\n",
      "-living\n",
      "4  After ______and helium, oxygen is the third-most abundant element in the universe by mass. \n",
      "\n",
      "-hydrogen\n"
     ],
     "output_type": "stream"
    }
   ],
   "source": [
    "# Printing questions \n",
    "\n",
    "for i, question in enumerate(cloze_questions):\n",
    "    print(\"{} {}\\n\".format(i,cloze_questions[i].question))\n",
    "    print(\"-{}\".format(cloze_questions[i].answer))\n",
    "    "
   ],
   "metadata": {
    "collapsed": false,
    "pycharm": {
     "name": "#%%\n",
     "is_executing": false
    }
   }
  }
 ],
 "metadata": {
  "kernelspec": {
   "display_name": "Python 3",
   "language": "python",
   "name": "python3"
  },
  "language_info": {
   "codemirror_mode": {
    "name": "ipython",
    "version": 2
   },
   "file_extension": ".py",
   "mimetype": "text/x-python",
   "name": "python",
   "nbconvert_exporter": "python",
   "pygments_lexer": "ipython2",
   "version": "2.7.6"
  },
  "pycharm": {
   "stem_cell": {
    "cell_type": "raw",
    "source": [],
    "metadata": {
     "collapsed": false
    }
   }
  }
 },
 "nbformat": 4,
 "nbformat_minor": 0
}